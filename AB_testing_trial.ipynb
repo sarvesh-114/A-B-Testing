{
 "cells": [
  {
   "cell_type": "code",
   "execution_count": 1,
   "id": "3ae1f5c0-f6bf-46a1-9b80-77f53a1f56b6",
   "metadata": {},
   "outputs": [],
   "source": [
    "import numpy as np\n",
    "import pandas as pd"
   ]
  },
  {
   "cell_type": "code",
   "execution_count": 2,
   "id": "b26d89e9-5a08-4072-8b9e-a6219a86a802",
   "metadata": {},
   "outputs": [],
   "source": [
    "N_exp = 10000\n",
    "N_con = 10000"
   ]
  },
  {
   "cell_type": "code",
   "execution_count": 3,
   "id": "2af20bfe-2f94-4bd7-825b-c668d11485d7",
   "metadata": {},
   "outputs": [],
   "source": [
    "click_exp = pd.Series(np.random.binomial(1, 0.4, size = N_exp))\n",
    "click_con = pd.Series(np.random.binomial(1, 0.3, size = N_con))"
   ]
  },
  {
   "cell_type": "code",
   "execution_count": 4,
   "id": "7dc094b5-f8c8-4062-ad65-52892e012149",
   "metadata": {},
   "outputs": [],
   "source": [
    "exp_id = pd.Series(np.repeat(\"exp\", N_exp))\n",
    "con_id = pd.Series(np.repeat(\"con\", N_con))"
   ]
  },
  {
   "cell_type": "code",
   "execution_count": 5,
   "id": "9d6f717b-149b-4ba8-a8e0-658405448534",
   "metadata": {},
   "outputs": [],
   "source": [
    "df_exp = pd.concat([click_exp, exp_id], axis = 1)\n",
    "df_con = pd.concat([click_con, con_id], axis = 1)"
   ]
  },
  {
   "cell_type": "code",
   "execution_count": 6,
   "id": "c089d5b1-15d0-4d94-a6c8-224c952771f1",
   "metadata": {},
   "outputs": [],
   "source": [
    "df_exp.columns = [\"click\", \"group\"]\n",
    "df_con.columns = [\"click\", \"group\"]"
   ]
  },
  {
   "cell_type": "code",
   "execution_count": 7,
   "id": "c6f331c8-20dd-42eb-8ba3-4e2369b28f36",
   "metadata": {},
   "outputs": [],
   "source": [
    "df_ab_test = pd.concat([df_exp, df_con], axis = 0).reset_index(drop = True)"
   ]
  },
  {
   "cell_type": "code",
   "execution_count": 8,
   "id": "6998f74f-8238-4eb5-b416-5a0c5efff729",
   "metadata": {},
   "outputs": [
    {
     "data": {
      "text/html": [
       "<div>\n",
       "<style scoped>\n",
       "    .dataframe tbody tr th:only-of-type {\n",
       "        vertical-align: middle;\n",
       "    }\n",
       "\n",
       "    .dataframe tbody tr th {\n",
       "        vertical-align: top;\n",
       "    }\n",
       "\n",
       "    .dataframe thead th {\n",
       "        text-align: right;\n",
       "    }\n",
       "</style>\n",
       "<table border=\"1\" class=\"dataframe\">\n",
       "  <thead>\n",
       "    <tr style=\"text-align: right;\">\n",
       "      <th></th>\n",
       "      <th>click</th>\n",
       "      <th>group</th>\n",
       "    </tr>\n",
       "  </thead>\n",
       "  <tbody>\n",
       "    <tr>\n",
       "      <th>0</th>\n",
       "      <td>1</td>\n",
       "      <td>exp</td>\n",
       "    </tr>\n",
       "    <tr>\n",
       "      <th>1</th>\n",
       "      <td>0</td>\n",
       "      <td>exp</td>\n",
       "    </tr>\n",
       "    <tr>\n",
       "      <th>2</th>\n",
       "      <td>0</td>\n",
       "      <td>exp</td>\n",
       "    </tr>\n",
       "    <tr>\n",
       "      <th>3</th>\n",
       "      <td>1</td>\n",
       "      <td>exp</td>\n",
       "    </tr>\n",
       "    <tr>\n",
       "      <th>4</th>\n",
       "      <td>1</td>\n",
       "      <td>exp</td>\n",
       "    </tr>\n",
       "    <tr>\n",
       "      <th>...</th>\n",
       "      <td>...</td>\n",
       "      <td>...</td>\n",
       "    </tr>\n",
       "    <tr>\n",
       "      <th>19995</th>\n",
       "      <td>0</td>\n",
       "      <td>con</td>\n",
       "    </tr>\n",
       "    <tr>\n",
       "      <th>19996</th>\n",
       "      <td>0</td>\n",
       "      <td>con</td>\n",
       "    </tr>\n",
       "    <tr>\n",
       "      <th>19997</th>\n",
       "      <td>0</td>\n",
       "      <td>con</td>\n",
       "    </tr>\n",
       "    <tr>\n",
       "      <th>19998</th>\n",
       "      <td>0</td>\n",
       "      <td>con</td>\n",
       "    </tr>\n",
       "    <tr>\n",
       "      <th>19999</th>\n",
       "      <td>0</td>\n",
       "      <td>con</td>\n",
       "    </tr>\n",
       "  </tbody>\n",
       "</table>\n",
       "<p>20000 rows × 2 columns</p>\n",
       "</div>"
      ],
      "text/plain": [
       "       click group\n",
       "0          1   exp\n",
       "1          0   exp\n",
       "2          0   exp\n",
       "3          1   exp\n",
       "4          1   exp\n",
       "...      ...   ...\n",
       "19995      0   con\n",
       "19996      0   con\n",
       "19997      0   con\n",
       "19998      0   con\n",
       "19999      0   con\n",
       "\n",
       "[20000 rows x 2 columns]"
      ]
     },
     "execution_count": 8,
     "metadata": {},
     "output_type": "execute_result"
    }
   ],
   "source": [
    "df_ab_test"
   ]
  },
  {
   "cell_type": "code",
   "execution_count": 9,
   "id": "deb898cf-898b-4818-beb7-730a3d98e256",
   "metadata": {},
   "outputs": [],
   "source": [
    "X_con = df_ab_test.groupby(\"group\")[\"click\"].sum().loc[\"con\"]\n",
    "X_exp = df_ab_test.groupby(\"group\")[\"click\"].sum().loc[\"exp\"]"
   ]
  },
  {
   "cell_type": "code",
   "execution_count": 10,
   "id": "21108c21-7651-49ad-90ce-ae99d1fa6715",
   "metadata": {},
   "outputs": [
    {
     "data": {
      "text/plain": [
       "2954"
      ]
     },
     "execution_count": 10,
     "metadata": {},
     "output_type": "execute_result"
    }
   ],
   "source": [
    "X_con"
   ]
  },
  {
   "cell_type": "code",
   "execution_count": 11,
   "id": "065eb39f-b9ff-4396-ac96-5c120aa3eaab",
   "metadata": {},
   "outputs": [
    {
     "data": {
      "text/plain": [
       "group\n",
       "con    2954\n",
       "exp    3931\n",
       "Name: click, dtype: int32"
      ]
     },
     "execution_count": 11,
     "metadata": {},
     "output_type": "execute_result"
    }
   ],
   "source": [
    "df_ab_test.groupby(\"group\")[\"click\"].sum()"
   ]
  },
  {
   "cell_type": "code",
   "execution_count": 12,
   "id": "3707baab-35f0-48f4-83c2-a45a0d4dc015",
   "metadata": {},
   "outputs": [
    {
     "data": {
      "text/plain": [
       "3931"
      ]
     },
     "execution_count": 12,
     "metadata": {},
     "output_type": "execute_result"
    }
   ],
   "source": [
    "X_exp"
   ]
  },
  {
   "cell_type": "code",
   "execution_count": 13,
   "id": "e9a9a767-535b-4261-aa93-fb83220111c3",
   "metadata": {},
   "outputs": [
    {
     "name": "stdout",
     "output_type": "stream",
     "text": [
      "Number of clicks of control group : 2954\n",
      "Number of clicks of experimental group : 3931\n"
     ]
    }
   ],
   "source": [
    "print(\"Number of clicks of control group :\", X_con)\n",
    "print(\"Number of clicks of experimental group :\", X_exp)"
   ]
  },
  {
   "cell_type": "code",
   "execution_count": 14,
   "id": "6d06db6f-8524-4fe6-a0b9-026c36f6005d",
   "metadata": {},
   "outputs": [],
   "source": [
    "p_con_hat = X_con/N_con\n",
    "p_exp_hat = X_exp/N_exp"
   ]
  },
  {
   "cell_type": "code",
   "execution_count": 15,
   "id": "014da35d-3a07-46aa-8cf2-7e7e5c37af5f",
   "metadata": {},
   "outputs": [
    {
     "name": "stdout",
     "output_type": "stream",
     "text": [
      "Click probality in control group:  0.2954\n",
      "Click probality in experimental group:  0.3931\n"
     ]
    }
   ],
   "source": [
    "print(\"Click probality in control group: \", p_con_hat)\n",
    "print(\"Click probality in experimental group: \",p_exp_hat)"
   ]
  },
  {
   "cell_type": "code",
   "execution_count": 16,
   "id": "d896597b-11e1-494a-9def-0a67edd379ff",
   "metadata": {},
   "outputs": [],
   "source": [
    "p_pooled_hat = (X_con + X_exp) / (N_con + N_exp)"
   ]
  },
  {
   "cell_type": "code",
   "execution_count": 17,
   "id": "01735f9f-0a3a-4adc-8b80-0ce1178ea005",
   "metadata": {},
   "outputs": [
    {
     "data": {
      "text/plain": [
       "0.34425"
      ]
     },
     "execution_count": 17,
     "metadata": {},
     "output_type": "execute_result"
    }
   ],
   "source": [
    "p_pooled_hat"
   ]
  },
  {
   "cell_type": "code",
   "execution_count": 18,
   "id": "1a03add3-055c-44c6-809e-7909b6902011",
   "metadata": {},
   "outputs": [],
   "source": [
    "pooles_variance = p_pooled_hat * (1 - p_pooled_hat) * (1/N_con + 1/N_exp)"
   ]
  },
  {
   "cell_type": "code",
   "execution_count": 19,
   "id": "983babd8-a55c-4af8-a239-edf442f39d23",
   "metadata": {},
   "outputs": [
    {
     "data": {
      "text/plain": [
       "4.5148387500000005e-05"
      ]
     },
     "execution_count": 19,
     "metadata": {},
     "output_type": "execute_result"
    }
   ],
   "source": [
    "pooles_variance"
   ]
  },
  {
   "cell_type": "code",
   "execution_count": 20,
   "id": "9684e784-2221-4ba7-b014-7a829ed46183",
   "metadata": {},
   "outputs": [
    {
     "name": "stdout",
     "output_type": "stream",
     "text": [
      "Satndard Error : 0.006719254981022822\n"
     ]
    }
   ],
   "source": [
    "SE = np.sqrt(pooles_variance)\n",
    "print(\"Satndard Error :\", SE)"
   ]
  },
  {
   "cell_type": "code",
   "execution_count": 21,
   "id": "d9ce25e3-2d0c-499d-b8d6-cc10b008d1ac",
   "metadata": {},
   "outputs": [
    {
     "name": "stdout",
     "output_type": "stream",
     "text": [
      "T Statistics for 2 sampled z-test : -14.54030250019294\n"
     ]
    }
   ],
   "source": [
    "Test_stat = (p_con_hat - p_exp_hat) / SE\n",
    "print(\"T Statistics for 2 sampled z-test :\", Test_stat)"
   ]
  },
  {
   "cell_type": "code",
   "execution_count": 22,
   "id": "23e9f93c-2a0a-46e3-b6b2-b7578732f514",
   "metadata": {},
   "outputs": [
    {
     "name": "stdout",
     "output_type": "stream",
     "text": [
      "Alpha: Signaficance level is : 0.05\n"
     ]
    }
   ],
   "source": [
    "alpha = 0.05\n",
    "print(\"Alpha: Signaficance level is :\", alpha)"
   ]
  },
  {
   "cell_type": "code",
   "execution_count": 23,
   "id": "e7429334-e98f-4ade-bc4f-45c3ccc741b9",
   "metadata": {},
   "outputs": [],
   "source": [
    "from scipy.stats import norm"
   ]
  },
  {
   "cell_type": "code",
   "execution_count": 24,
   "id": "f69c45c9-b788-4830-b8e0-3f2525aac13a",
   "metadata": {},
   "outputs": [
    {
     "name": "stdout",
     "output_type": "stream",
     "text": [
      "Z-critical value from statndard normal distribution : 1.959963984540054\n"
     ]
    }
   ],
   "source": [
    "z_crit = norm.ppf(1-alpha/2)\n",
    "print(\"Z-critical value from statndard normal distribution :\",z_crit)"
   ]
  },
  {
   "cell_type": "code",
   "execution_count": 25,
   "id": "977661c3-605b-4bfb-8ed5-3a5ea9bdffdf",
   "metadata": {},
   "outputs": [
    {
     "name": "stdout",
     "output_type": "stream",
     "text": [
      "P_value of the 2-sample t-test : 0.0\n"
     ]
    }
   ],
   "source": [
    "P_value = 2 * norm.sf(abs(Test_stat))\n",
    "print(\"P_value of the 2-sample t-test :\", round(P_value, 3))"
   ]
  },
  {
   "cell_type": "code",
   "execution_count": 61,
   "id": "848769af-7195-4e6b-ac59-2191ca90ba1c",
   "metadata": {},
   "outputs": [
    {
     "data": {
      "text/plain": [
       "click\n",
       "0    13115\n",
       "1     6885\n",
       "Name: count, dtype: int64"
      ]
     },
     "execution_count": 61,
     "metadata": {},
     "output_type": "execute_result"
    }
   ],
   "source": [
    "df_ab_test[\"click\"].value_counts()"
   ]
  },
  {
   "cell_type": "code",
   "execution_count": 63,
   "id": "0bfc104e-1ff6-4b74-88a7-bdd025b23510",
   "metadata": {},
   "outputs": [
    {
     "data": {
      "text/html": [
       "<div>\n",
       "<style scoped>\n",
       "    .dataframe tbody tr th:only-of-type {\n",
       "        vertical-align: middle;\n",
       "    }\n",
       "\n",
       "    .dataframe tbody tr th {\n",
       "        vertical-align: top;\n",
       "    }\n",
       "\n",
       "    .dataframe thead th {\n",
       "        text-align: right;\n",
       "    }\n",
       "</style>\n",
       "<table border=\"1\" class=\"dataframe\">\n",
       "  <thead>\n",
       "    <tr style=\"text-align: right;\">\n",
       "      <th></th>\n",
       "      <th>click</th>\n",
       "    </tr>\n",
       "    <tr>\n",
       "      <th>group</th>\n",
       "      <th></th>\n",
       "    </tr>\n",
       "  </thead>\n",
       "  <tbody>\n",
       "    <tr>\n",
       "      <th>con</th>\n",
       "      <td>2954</td>\n",
       "    </tr>\n",
       "    <tr>\n",
       "      <th>exp</th>\n",
       "      <td>3931</td>\n",
       "    </tr>\n",
       "  </tbody>\n",
       "</table>\n",
       "</div>"
      ],
      "text/plain": [
       "       click\n",
       "group       \n",
       "con     2954\n",
       "exp     3931"
      ]
     },
     "execution_count": 63,
     "metadata": {},
     "output_type": "execute_result"
    }
   ],
   "source": [
    "df_ab_test.groupby(\"group\").sum()"
   ]
  },
  {
   "cell_type": "code",
   "execution_count": 65,
   "id": "c9f25113-87bd-42e5-bbc2-fcc2e71c5322",
   "metadata": {},
   "outputs": [
    {
     "data": {
      "text/plain": [
       "group\n",
       "exp    10000\n",
       "con    10000\n",
       "Name: count, dtype: int64"
      ]
     },
     "execution_count": 65,
     "metadata": {},
     "output_type": "execute_result"
    }
   ],
   "source": [
    "df_ab_test[\"group\"].value_counts()"
   ]
  },
  {
   "cell_type": "code",
   "execution_count": null,
   "id": "9d8d49b6-58de-4866-8129-8cfba7f8f90e",
   "metadata": {},
   "outputs": [],
   "source": []
  }
 ],
 "metadata": {
  "kernelspec": {
   "display_name": "Python [conda env:base] *",
   "language": "python",
   "name": "conda-base-py"
  },
  "language_info": {
   "codemirror_mode": {
    "name": "ipython",
    "version": 3
   },
   "file_extension": ".py",
   "mimetype": "text/x-python",
   "name": "python",
   "nbconvert_exporter": "python",
   "pygments_lexer": "ipython3",
   "version": "3.12.7"
  }
 },
 "nbformat": 4,
 "nbformat_minor": 5
}
